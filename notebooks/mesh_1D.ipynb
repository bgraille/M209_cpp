{
 "cells": [
  {
   "cell_type": "markdown",
   "metadata": {
    "nbgrader": {
     "grade": false,
     "grade_id": "cell-845ad1fdb06cf81a",
     "locked": true,
     "schema_version": 1,
     "solution": false
    }
   },
   "source": [
    "# Maillage 1D\n",
    "\n",
    "Pour calculer numériquement la solution d'une EDP par la méthode des différences finies, il faut commencer par construire le maillage, c'est-à-dire l'ensemble des points où la solution approchée sera calculée.\n",
    "\n",
    "Dans ce notebook, nous allons construire une classe `mesh1D` qui nous sera utile tout au long de ce cours. Nous la plaçons donc dans le fichier `mesh1D.hpp` afin de pouvoir l'utiliser dans d'autres notebooks facilement."
   ]
  },
  {
   "cell_type": "code",
   "execution_count": 1,
   "metadata": {
    "nbgrader": {
     "grade": false,
     "grade_id": "cell-2cf3ebea964a7e08",
     "locked": true,
     "schema_version": 1,
     "solution": false
    }
   },
   "outputs": [],
   "source": [
    "#include <iostream>\n",
    "#include <vector>\n",
    "#include <map>"
   ]
  },
  {
   "cell_type": "markdown",
   "metadata": {
    "nbgrader": {
     "grade": false,
     "grade_id": "cell-eb0958fd2b04db08",
     "locked": true,
     "schema_version": 1,
     "solution": false
    }
   },
   "source": [
    "## Les paramètres\n",
    "\n",
    "Lorsque l'on fait des simulations numériques, de nombreux paramètres sont utilisés et il peut être souvent pratique d'avoir une structure permettant de les stocker."
   ]
  },
  {
   "cell_type": "markdown",
   "metadata": {
    "nbgrader": {
     "grade": false,
     "grade_id": "cell-a2a775effad5dda0",
     "locked": true,
     "schema_version": 1,
     "solution": false
    }
   },
   "source": [
    "### Question 1\n",
    "\n",
    "Complétez la cellule suivante afin de mettre en paramètres \n",
    "* `xmin` la borne inférieur de l'intervalle de simulation\n",
    "* `xmax` la borne supérieur de l'intervalle de simulation\n",
    "* `Nx` le nombre de points du maillage (a priori un entier)"
   ]
  },
  {
   "cell_type": "code",
   "execution_count": 2,
   "metadata": {},
   "outputs": [],
   "source": [
    "using parameters = std::map<std::string, double>;\n",
    "\n",
    "parameters p{\n",
    "    {\"xmin\", 0},\n",
    "    {\"xmax\", 1},\n",
    "    {\"Nx\", 10}\n",
    "};"
   ]
  },
  {
   "cell_type": "markdown",
   "metadata": {
    "nbgrader": {
     "grade": false,
     "grade_id": "cell-0b7ea31427ffe2d2",
     "locked": true,
     "schema_version": 1,
     "solution": false
    }
   },
   "source": [
    "### Question 2\n",
    "\n",
    "Affichez les paramètres \"joliement\" !"
   ]
  },
  {
   "cell_type": "code",
   "execution_count": 3,
   "metadata": {
    "nbgrader": {
     "grade": true,
     "grade_id": "cell-90930d02e26f9166",
     "locked": false,
     "points": 0,
     "schema_version": 1,
     "solution": true
    }
   },
   "outputs": [
    {
     "name": "stdout",
     "output_type": "stream",
     "text": [
      "--------------------------------------------------------------------------------\n",
      "parameters\n",
      "--------------------------------------------------------------------------------\n",
      "Nx: \t10\n",
      "xmax: \t1\n",
      "xmin: \t0\n",
      "--------------------------------------------------------------------------------\n"
     ]
    }
   ],
   "source": [
    "std::cout << std::string(80, '-') << std::endl;\n",
    "std::cout << \"parameters\" << std::endl;\n",
    "std::cout << std::string(80, '-') << std::endl;\n",
    "for (const auto & pk : p)\n",
    "    std::cout << pk.first << \": \\t\" << pk.second << std::endl;\n",
    "std::cout << std::string(80, '-') << std::endl;"
   ]
  },
  {
   "cell_type": "code",
   "execution_count": null,
   "metadata": {},
   "outputs": [],
   "source": []
  },
  {
   "cell_type": "markdown",
   "metadata": {
    "nbgrader": {
     "grade": false,
     "grade_id": "cell-c1d6d41bc05ed894",
     "locked": true,
     "schema_version": 1,
     "solution": false
    }
   },
   "source": [
    "## Une première classe\n",
    "\n",
    "Nous allons compléter la classe `mesh1D` ainsi que ses deux classes filles `mesh1D_cc` (cell-centered) et `mesh1D_nc` (node-centered) afin qu'elles répondent à nos attentes.\n",
    "\n",
    "### Question 3\n",
    "\n",
    "Complétez les constructeurs qui ne sont pas par défaut (ceux qui utilisent les paramètres) afin d'initialiser les maillages :\n",
    "* pour le maillage _cell-centered_, les points sont au centre des cellules (et ne touchent donc pas le bord),\n",
    "* pour le maillage _node-centered_, les points sont au bord des cellules.\n",
    "\n",
    "### Question 4\n",
    "\n",
    "Complétez la fonction d'affichage afin de pouvoir visualiser les maillages (attention n'affichez peut-être pas tous les points du maillage pour éviter que ce ne soit trop long)."
   ]
  },
  {
   "cell_type": "code",
   "execution_count": 4,
   "metadata": {
    "nbgrader": {
     "grade": true,
     "grade_id": "cell-c57fb3943ac5c58f",
     "locked": false,
     "points": 0,
     "schema_version": 1,
     "solution": true
    }
   },
   "outputs": [
    {
     "name": "stdout",
     "output_type": "stream",
     "text": [
      "Overwriting mesh1D.hpp\n"
     ]
    }
   ],
   "source": [
    "%%file mesh1D.hpp\n",
    "\n",
    "using parameters = std::map<std::string, double>;\n",
    "\n",
    "/*****************************************************************************************\n",
    "*\n",
    "* class mesh1D to define the mesh of the simulation in 1D\n",
    "*\n",
    "*****************************************************************************************/\n",
    "class mesh1D\n",
    "{\n",
    "public:\n",
    "    double xmin, xmax, dx; // left, right bounds + spatial step\n",
    "    std::size_t Nx;        // number of points\n",
    "    std::vector<double> x; // the points of the mesh\n",
    "    std::string name;      // the name of the class\n",
    "    \n",
    "    mesh1D() = default;                    // empty constructor\n",
    "    mesh1D(const mesh1D&) = default;         // copy constructor\n",
    "    mesh1D& operator=(mesh1D&& m) = default; // move constructor\n",
    "    mesh1D(parameters);\n",
    "};\n",
    "\n",
    "mesh1D::mesh1D(parameters param)\n",
    "{\n",
    "    name = \"generic\";\n",
    "    xmin = param[\"xmin\"];\n",
    "    xmax = param[\"xmax\"];\n",
    "    Nx = param[\"Nx\"];\n",
    "    if (Nx <= 0)\n",
    "    {\n",
    "        std::cout << \"Error in mesh generation: the parameter 'Nx' has to be positive\" << std::endl;\n",
    "        Nx = 1;\n",
    "    }\n",
    "    dx = 0.;\n",
    "    x.resize(Nx);\n",
    "}\n",
    "\n",
    "// print\n",
    "std::ostream& operator<<(std::ostream& out, mesh1D& m)\n",
    "{\n",
    "    out << std::string(80, '-') << std::endl;\n",
    "    out << \"mesh informations (\" << m.name << \")\" << std::endl;\n",
    "    out << std::string(80, '-') << std::endl;\n",
    "    // BEGIN SOLUTION\n",
    "    out << \"    dimension:         \" << 1      << std::endl;\n",
    "    out << \"    xmin:              \" << m.xmin << std::endl;\n",
    "    out << \"    xmax:              \" << m.xmax << std::endl;\n",
    "    out << \"    number of points:  \" << m.Nx   << std::endl;\n",
    "    out << \"    spatial step:      \" << m.dx   << std::endl;\n",
    "    out << \"[\" << std::endl;\n",
    "    if (m.Nx <= 6)\n",
    "        for (auto &xk : m.x)\n",
    "            out << \"  \" << xk << std::endl;\n",
    "    else\n",
    "    {\n",
    "        for (auto it = m.x.begin(); it != std::next(m.x.begin(),3); ++it)\n",
    "            out << \"  \" << *it << std::endl;\n",
    "        out << \"   ... \" << std::endl;\n",
    "        for (auto it = std::prev(m.x.end(), 3); it != m.x.end(); ++it)\n",
    "            out << \"  \" << *it << std::endl;\n",
    "    }\n",
    "    out << \"]\" << std::endl;\n",
    "    // END SOLUTION\n",
    "    out << std::string(80, '-') << std::endl;\n",
    "    return out;\n",
    "}\n",
    "\n",
    "class mesh1D_cc: public mesh1D\n",
    "{\n",
    "public:\n",
    "    mesh1D_cc() = default;\n",
    "    mesh1D_cc(parameters);\n",
    "};\n",
    "\n",
    "// constructor\n",
    "mesh1D_cc::mesh1D_cc(parameters param): mesh1D(param)\n",
    "{\n",
    "    name = \"cell-centered\";\n",
    "    // BEGIN SOLUTION\n",
    "    dx = (xmax - xmin) / Nx;\n",
    "    x[0] = xmin + 0.5*dx;\n",
    "    for (auto k = 1; k < x.size(); ++k)\n",
    "        x[k] = x[k-1] + dx;\n",
    "    // END SOLUTION\n",
    "}\n",
    "\n",
    "class mesh1D_nc: public mesh1D\n",
    "{\n",
    "public:\n",
    "    mesh1D_nc() = default;\n",
    "    mesh1D_nc(parameters);\n",
    "};\n",
    "\n",
    "// constructor\n",
    "mesh1D_nc::mesh1D_nc(parameters param): mesh1D(param)\n",
    "{\n",
    "    name = \"node-centered\";\n",
    "    // BEGIN SOLUTION\n",
    "    dx = (xmax - xmin) / (Nx - 1);\n",
    "    x[0] = xmin;\n",
    "    for (auto k = 1; k < x.size(); ++k)\n",
    "        x[k] = x[k-1] + dx;\n",
    "    // END SOLUTION\n",
    "}\n",
    "\n"
   ]
  },
  {
   "cell_type": "markdown",
   "metadata": {
    "nbgrader": {
     "grade": false,
     "grade_id": "cell-0f802bb67ccebf27",
     "locked": true,
     "schema_version": 1,
     "solution": false
    }
   },
   "source": [
    "### Question 5\n",
    "\n",
    "Exécutez la cellule suivante pour vérifier que tout fonctionne correctement. "
   ]
  },
  {
   "cell_type": "code",
   "execution_count": 5,
   "metadata": {
    "nbgrader": {
     "grade": false,
     "grade_id": "cell-4f9d498968438d95",
     "locked": true,
     "schema_version": 1,
     "solution": false
    }
   },
   "outputs": [],
   "source": [
    "#include \"mesh1D.hpp\""
   ]
  },
  {
   "cell_type": "code",
   "execution_count": 6,
   "metadata": {
    "nbgrader": {
     "grade": false,
     "grade_id": "cell-df4c8d6af91ee592",
     "locked": true,
     "schema_version": 1,
     "solution": false
    }
   },
   "outputs": [
    {
     "name": "stdout",
     "output_type": "stream",
     "text": [
      "--------------------------------------------------------------------------------\n",
      "mesh informations (cell-centered)\n",
      "--------------------------------------------------------------------------------\n",
      "    dimension:         1\n",
      "    xmin:              0\n",
      "    xmax:              1\n",
      "    number of points:  10\n",
      "    spatial step:      0.1\n",
      "[\n",
      "  0.05\n",
      "  0.15\n",
      "  0.25\n",
      "   ... \n",
      "  0.75\n",
      "  0.85\n",
      "  0.95\n",
      "]\n",
      "--------------------------------------------------------------------------------\n"
     ]
    }
   ],
   "source": [
    "mesh1D_cc mc(p);\n",
    "std::cout << mc;"
   ]
  },
  {
   "cell_type": "code",
   "execution_count": 7,
   "metadata": {
    "nbgrader": {
     "grade": false,
     "grade_id": "cell-073c32a95e48d5d5",
     "locked": true,
     "schema_version": 1,
     "solution": false
    }
   },
   "outputs": [
    {
     "name": "stdout",
     "output_type": "stream",
     "text": [
      "--------------------------------------------------------------------------------\n",
      "mesh informations (node-centered)\n",
      "--------------------------------------------------------------------------------\n",
      "    dimension:         1\n",
      "    xmin:              0\n",
      "    xmax:              1\n",
      "    number of points:  10\n",
      "    spatial step:      0.111111\n",
      "[\n",
      "  0\n",
      "  0.111111\n",
      "  0.222222\n",
      "   ... \n",
      "  0.777778\n",
      "  0.888889\n",
      "  1\n",
      "]\n",
      "--------------------------------------------------------------------------------\n"
     ]
    }
   ],
   "source": [
    "mesh1D_nc mn(p);\n",
    "std::cout << mn;"
   ]
  },
  {
   "cell_type": "markdown",
   "metadata": {
    "nbgrader": {
     "grade": false,
     "grade_id": "cell-bea3a778c475ee8e",
     "locked": true,
     "schema_version": 1,
     "solution": false
    }
   },
   "source": [
    "Voici un petit script utilisant `xplot` afin de visualiser les points du maillage dans une fenêtre graphique."
   ]
  },
  {
   "cell_type": "code",
   "execution_count": 8,
   "metadata": {
    "nbgrader": {
     "grade": false,
     "grade_id": "cell-41fb00080650baed",
     "locked": true,
     "schema_version": 1,
     "solution": false
    }
   },
   "outputs": [],
   "source": [
    "#include \"xplot/xfigure.hpp\"\n",
    "#include \"xplot/xmarks.hpp\"\n",
    "#include \"xplot/xaxes.hpp\""
   ]
  },
  {
   "cell_type": "code",
   "execution_count": 9,
   "metadata": {},
   "outputs": [
    {
     "data": {
      "application/vnd.jupyter.widget-view+json": {
       "model_id": "db7215cf9b2b4c29924dc4ae680d085e",
       "version_major": 2,
       "version_minor": 0
      },
      "text/plain": [
       "A Jupyter widget"
      ]
     },
     "metadata": {},
     "output_type": "display_data"
    }
   ],
   "source": [
    "std::vector<mesh1D> list_mesh = {mc, mn};\n",
    "std::vector<std::string> list_color = {\"orange\", \"purple\"};\n",
    "auto n = list_mesh.size();\n",
    "\n",
    "xpl::linear_scale sx, sy;\n",
    "auto sx_min = 1e13, sx_max = -1.e13;\n",
    "for (auto& m: list_mesh)\n",
    "{\n",
    "    if (m.xmin < sx_min)\n",
    "        sx_min = m.xmin;\n",
    "    if (m.xmax > sx_max)\n",
    "        sx_max = m.xmax;\n",
    "}\n",
    "sx.min = sx_min, sx.max = sx_max;\n",
    "sy.min = 0, sy.max = n;\n",
    "\n",
    "auto ax_x = xpl::axis_generator(sx)\n",
    "    .label(\"x\")\n",
    "    .finalize();\n",
    "auto ax_y = xpl::axis_generator(sy)\n",
    "    .visible(false)\n",
    "    .orientation(\"vertical\")\n",
    "    .side(\"left\")\n",
    "    .finalize();\n",
    "\n",
    "std::vector<xpl::scatter> list_scatter(n);\n",
    "std::vector<xpl::lines> list_lines(n);\n",
    "std::vector<double> list_labels_x(n, 0.);\n",
    "std::vector<double> list_labels_y(n);\n",
    "std::vector<std::string> list_name(n);\n",
    "\n",
    "for (auto k = 0; k<n; ++k)\n",
    "{\n",
    "    list_scatter[k] = xpl::scatter_generator(sx, sy)\n",
    "        .x(list_mesh[k].x)\n",
    "        .y(std::vector<double> (list_mesh[k].Nx, k))\n",
    "        .colors(std::vector<xtl::xoptional<std::string>>{list_color[k]})\n",
    "        .marker(\"circle\")\n",
    "        .finalize();\n",
    "    list_lines[k] = xpl::lines_generator(sx, sy)\n",
    "        .x(std::vector<double> {list_mesh[k].xmin, list_mesh[k].xmax})\n",
    "        .y(std::vector<double> (2, k))\n",
    "        .finalize();\n",
    "    list_labels_y[k] = .25 + k;\n",
    "    list_name[k] = list_mesh[k].name;\n",
    "}\n",
    "auto labels = xpl::label_generator(sx, sy)\n",
    "    .x(list_labels_x)\n",
    "    .y(list_labels_y)\n",
    "    .text(list_name)\n",
    "    .colors(list_color)\n",
    "    .font_weight(\"bolder\")\n",
    "    .default_size(26)\n",
    "    .finalize();\n",
    "auto fig = xpl::figure_generator()\n",
    "    .padding_x(0.025)\n",
    "    .padding_y(0.025)\n",
    "    .title(\"Mesh with \" + std::to_string((int)p[\"Nx\"]) + \" points\")\n",
    "    .finalize();\n",
    "\n",
    "for (auto k = 0; k<n; ++k)\n",
    "{\n",
    "    fig.add_mark(list_lines[k]);\n",
    "    fig.add_mark(list_scatter[k]);\n",
    "}\n",
    "fig.add_mark(labels);\n",
    "fig.add_axis(ax_x);\n",
    "fig.add_axis(ax_y);\n",
    "fig.display()"
   ]
  },
  {
   "cell_type": "code",
   "execution_count": null,
   "metadata": {},
   "outputs": [],
   "source": []
  }
 ],
 "metadata": {
  "celltoolbar": "Create Assignment",
  "kernelspec": {
   "display_name": "xeus C++14",
   "language": "",
   "name": "xeus-cling-cpp14"
  },
  "language_info": {
   "codemirror_mode": "text/x-c++src",
   "file_extension": ".cpp",
   "mimetype": "text/x-c++src",
   "name": "c++",
   "version": ""
  }
 },
 "nbformat": 4,
 "nbformat_minor": 2
}
