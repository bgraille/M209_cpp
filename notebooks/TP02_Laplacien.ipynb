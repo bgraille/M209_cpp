{
 "cells": [
  {
   "cell_type": "markdown",
   "metadata": {
    "nbgrader": {
     "grade": false,
     "grade_id": "cell-49c5f4f2a09b6c76",
     "locked": true,
     "schema_version": 1,
     "solution": false
    }
   },
   "source": [
    "# Equation de Laplace\n",
    "\n",
    "Considérons le problème de Laplace canonique suivant : nous cherchons une fonction $u:[0,1]\\to\\mathbb{R}$ qui vérifie le problème\n",
    "\\begin{equation}\n",
    "\\left\\lbrace\n",
    "\\begin{aligned}\n",
    "&-\\Delta u(x) = f(x),&&0<x<1,\\\\\n",
    "&u(0)=u(1)=0,\n",
    "\\end{aligned}\n",
    "\\right.\n",
    "\\end{equation}\n",
    "où $f:[0,1]\\to\\mathbb{R}$ est une fonction régulière (par exemple continue).\n",
    "\n",
    "Ce problème peut se résoudre directement. La solution est donnée par la formule\n",
    "\\begin{equation}\n",
    "u(x) = x \\int_0^1 \\int_0^t f(s) \\, \\operatorname{d}\\!s \\, \\operatorname{d}\\!t - \\int_0^x \\int_0^t f(s) \\, \\operatorname{d}\\!s \\, \\operatorname{d}\\!t .\n",
    "\\end{equation}\n",
    "\n",
    "La méthode des différences finies consiste à construire un maillage de l'intervalle $[0,1]$, c'est-à-dire une famille de points $x_i = \\frac{i}{N+1}$, $0\\leq i\\leq N+1$, pour $N\\in\\mathbb{N}$. Le pas d'espace $\\Delta x$ est défini comme la distance entre les points du maillage : $\\Delta x = \\frac{1}{N+1}$.\n",
    "Puis nous définissons $u_i$, $0\\leq i\\leq N+1$, comme l'approximation de $u(x_i)$ par la formule\n",
    "\\begin{equation}\n",
    "-\\frac{u_{i+1}-2u_i+u_{i-1}}{\\Delta x^2} = f_i, \\qquad 1\\leq i\\leq N,\n",
    "\\end{equation}\n",
    "où $f_i=f(x_i)$, $1\\leq i\\leq N$.\n",
    "Evidemment nous complétons ces relations à l'aide des conditions de bord : $u_0=u_{N+1}=0$.\n",
    "\n",
    "Nous pouvons écrire l'ensemble de ces relations sous une forme matricielle. Nous définissons $U = (u_1,\\ldots,u_N)^t \\in\\mathbb{R}^N$, $F = (f_1,\\ldots,f_N)^t\\in\\mathbb{R}^N$ et $A$ la matrice de taille $N{\\times}N$ par\n",
    "$$ \n",
    "A = \\frac{1}{\\Delta x^2}\\begin{pmatrix}\n",
    "2&-1&0&\\ldots&0\\\\\n",
    "-1&2&-1&\\ddots&\\vdots\\\\\n",
    "0&\\ddots&\\ddots&\\ddots&0\\\\\n",
    "\\vdots&\\ddots&-1&2&-1\\\\\n",
    "0&\\ldots&0&-1&2\n",
    "\\end{pmatrix}.\n",
    "$$\n",
    "Nous pouvons donc récrire le problème sous forme matricielle\n",
    "$$ Au = F.$$"
   ]
  },
  {
   "cell_type": "code",
   "execution_count": 1,
   "metadata": {},
   "outputs": [],
   "source": [
    "#include <iostream>\n",
    "#include <vector>\n",
    "#include <stdexcept>\n",
    "\n",
    "#include \"xplot/xfigure.hpp\"\n",
    "#include \"xplot/xmarks.hpp\"\n",
    "#include \"xplot/xaxes.hpp\"\n",
    "\n",
    "#include \"mesh1D.hpp\"\n",
    "#include \"solution1D.hpp\"\n",
    "#include \"matrix.hpp\"\n",
    "#include \"lu.hpp\""
   ]
  },
  {
   "cell_type": "markdown",
   "metadata": {
    "nbgrader": {
     "grade": false,
     "grade_id": "cell-765b5c73faaab7c6",
     "locked": true,
     "schema_version": 1,
     "solution": false
    }
   },
   "source": [
    "### Question 1\n",
    "\n",
    "Créez un objet de type `parameters` contenant les informations suivantes\n",
    "* `xmin` l'abscisse du bord gauche ($0$ dans notre cas)\n",
    "* `xmax` l'abscisse du bord droit ($1$ dans notre cas)\n",
    "* `Nx` le nombre de points du maillage (à votre convenance mais ne soyez pas trop gourmand dans un premier temps)\n",
    "* `node-centered` qui doit prendre la valeur $1$ de manière à construire un maillage centré sur les noeuds (et pas sur les cellules)\n",
    "\n",
    "### Question 2\n",
    "\n",
    "Créez une `lambda`-fonction pour le second membre de l'équation. Ici nous pourrons commencer avec la fonction $f(x) = 1$, $\\forall x\\in[0,1]$."
   ]
  },
  {
   "cell_type": "code",
   "execution_count": 2,
   "metadata": {
    "nbgrader": {
     "grade": true,
     "grade_id": "cell-d90641b4c2addd9b",
     "locked": false,
     "points": 0,
     "schema_version": 1,
     "solution": true
    }
   },
   "outputs": [],
   "source": [
    "// parameters declaration\n",
    "parameters p = {\n",
    "    {\"xmin\", 0.},         // left bound\n",
    "    {\"xmax\", 1.},         // right bound\n",
    "    {\"Nx\", 32},           // number of points\n",
    "    {\"node-centered\", 1.} // choice of the mesh\n",
    "};\n",
    "// right member of the Laplace equation\n",
    "auto f = [](double x) { return 1.; };"
   ]
  },
  {
   "cell_type": "markdown",
   "metadata": {
    "nbgrader": {
     "grade": false,
     "grade_id": "cell-545f0f9955166a6c",
     "locked": true,
     "schema_version": 1,
     "solution": false
    }
   },
   "source": [
    "### Question 3\n",
    "\n",
    "Dans le cas où $f(x)=1$, la solution évidente du problème s'écrit\n",
    "$$ u(x) = \\frac{1}{2} x(1-x).$$\n",
    "\n",
    "Créez une fonction qui prend en argument $x$ un vecteur de `double` et qui retourne $y$ un vecteur de même taille tel que \n",
    "$$ y_k = u(x_k) .$$"
   ]
  },
  {
   "cell_type": "code",
   "execution_count": 3,
   "metadata": {
    "nbgrader": {
     "grade": true,
     "grade_id": "cell-2cac1048f664cd78",
     "locked": false,
     "points": 0,
     "schema_version": 1,
     "solution": true
    }
   },
   "outputs": [],
   "source": [
    "// solution\n",
    "auto sol(std::vector<double> x)\n",
    "{\n",
    "    std::vector<double> y(x.size());\n",
    "    std::transform(x.begin(), x.end(), y.begin(), [](double xk){return .5*xk*(1-xk); });\n",
    "    return y;\n",
    "}"
   ]
  },
  {
   "cell_type": "markdown",
   "metadata": {
    "nbgrader": {
     "grade": false,
     "grade_id": "cell-f52b69211e853da0",
     "locked": true,
     "schema_version": 1,
     "solution": false
    }
   },
   "source": [
    "### Question 4\n",
    "\n",
    "* Fabriquez tous les éléments du problème : \n",
    "    * la solution `S` (objet de type `solution1D`) à partir des paramètres,\n",
    "    * la matrice $A$ du Laplacien dont la taille est $N{\\times}N$ avec $N=N_x-2$ où $N_x$ est le nombre de points du maillage comprenant les deux points de bord, \n",
    "    * le second membre $F$ qui doit être un `vector` de taille $N$ également ;\n",
    "* résolvez le système linéaire $Au=F$ en utilisant la décomposition $LU$ de la matrice $A$. Le vecteur `u_in` obtenu est un vecteur de taille $N$ ;\n",
    "* copiez les valeurs de `u_in` à leur place dans le vecteur `S.u` qui est de taille $N_x=N+2$."
   ]
  },
  {
   "cell_type": "code",
   "execution_count": 4,
   "metadata": {
    "nbgrader": {
     "grade": true,
     "grade_id": "cell-826e43fb674fb9ac",
     "locked": false,
     "points": 0,
     "schema_version": 1,
     "solution": true
    }
   },
   "outputs": [],
   "source": [
    "solution1D S(p);\n",
    "\n",
    "auto N = S.m.Nx - 2;\n",
    "auto A = 2.*identity(N,N) - identity(N,N,1) - identity(N,N,-1);\n",
    "A *= (N+1)*(N+1);\n",
    "std::vector<double> F(N);\n",
    "std::transform(std::next(S.m.x.begin()),\n",
    "               std::prev(S.m.x.end()),\n",
    "               F.begin(), f);\n",
    "auto u_in = solve_lu(lu(A), F);\n",
    "std::copy(u_in.begin(), u_in.end(), std::next(S.u.begin()));"
   ]
  },
  {
   "cell_type": "markdown",
   "metadata": {
    "nbgrader": {
     "grade": false,
     "grade_id": "cell-1f1302b3c2bf5d65",
     "locked": true,
     "schema_version": 1,
     "solution": false
    }
   },
   "source": [
    "### Question 5\n",
    "\n",
    "Affichez le résultat obtenu et comparez le avec la solution exacte.\n",
    "Essayez d'obtenir un graphique semblable à celui-ci.\n",
    "\n",
    "<img src=\"img/TP02_Laplacien.png\", width='75%'>"
   ]
  },
  {
   "cell_type": "code",
   "execution_count": 5,
   "metadata": {
    "nbgrader": {
     "grade": true,
     "grade_id": "cell-1a2949ba0e068aec",
     "locked": false,
     "points": 0,
     "schema_version": 1,
     "solution": true
    }
   },
   "outputs": [
    {
     "data": {
      "application/vnd.jupyter.widget-view+json": {
       "model_id": "827263ab079a4ee3a1e11390ed914fba",
       "version_major": 2,
       "version_minor": 0
      },
      "text/plain": [
       "A Jupyter widget"
      ]
     },
     "metadata": {},
     "output_type": "display_data"
    }
   ],
   "source": [
    "xpl::linear_scale sx, sy;\n",
    "sx.min = p[\"xmin\"], sx.max = p[\"xmax\"];\n",
    "sy.min = 0., sy.max = .125;\n",
    "\n",
    "// fine mesh for the exact solution\n",
    "auto NN = 1025;\n",
    "double dx = 1./(NN-1);\n",
    "std::vector<double> xx(NN);\n",
    "for (auto i=0; i<NN; ++i)\n",
    "    xx[i] = i*dx;\n",
    "\n",
    "auto ax_x = xpl::axis_generator(sx)\n",
    "    .label(\"x\")\n",
    "    .finalize();\n",
    "auto ax_y = xpl::axis_generator(sy)\n",
    "    .orientation(\"vertical\")\n",
    "    .side(\"left\")\n",
    "    .finalize();\n",
    "auto line = xpl::lines_generator(sx, sy)\n",
    "    .x(xx)\n",
    "    .y(sol(xx))\n",
    "    .colors(std::vector<std::string>({\"orange\"}))\n",
    "    .labels(std::vector<std::string>({\"exact\"}))\n",
    "    .display_legend(true)\n",
    "    .finalize();\n",
    "auto scatter = xpl::scatter_generator(sx, sy)\n",
    "    .x(S.m.x)\n",
    "    .y(S.u)\n",
    "    .colors(std::vector<xtl::xoptional<std::string>>{\"navy\"})\n",
    "    .labels(std::vector<std::string>({\"numeric\"}))\n",
    "    .display_legend(true)\n",
    "    .marker(\"circle\")\n",
    "    .finalize();\n",
    "auto fig = xpl::figure_generator()\n",
    "    .padding_x(0.025)\n",
    "    .padding_y(0.1)\n",
    "    .title(\"solution with N = \" + std::to_string(S.m.Nx))\n",
    "    .legend_location(\"top-left\")\n",
    "    .finalize();\n",
    "\n",
    "fig.add_mark(line);\n",
    "fig.add_mark(scatter);\n",
    "fig.add_axis(ax_x);\n",
    "fig.add_axis(ax_y);\n",
    "fig.display();"
   ]
  },
  {
   "cell_type": "code",
   "execution_count": null,
   "metadata": {},
   "outputs": [],
   "source": []
  }
 ],
 "metadata": {
  "celltoolbar": "Create Assignment",
  "kernelspec": {
   "display_name": "xeus C++14",
   "language": "",
   "name": "xeus-cling-cpp14"
  },
  "language_info": {
   "codemirror_mode": "text/x-c++src",
   "file_extension": ".cpp",
   "mimetype": "text/x-c++src",
   "name": "c++",
   "version": ""
  }
 },
 "nbformat": 4,
 "nbformat_minor": 2
}
