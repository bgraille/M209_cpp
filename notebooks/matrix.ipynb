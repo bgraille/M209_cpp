{
 "cells": [
  {
   "cell_type": "code",
   "execution_count": 1,
   "metadata": {
    "nbgrader": {
     "grade": false,
     "grade_id": "cell-f1660f9f3fa5b852",
     "locked": true,
     "schema_version": 1,
     "solution": false
    }
   },
   "outputs": [],
   "source": [
    "# include <iostream>\n",
    "# include <vector>\n",
    "# include <stdexcept>"
   ]
  },
  {
   "cell_type": "markdown",
   "metadata": {
    "nbgrader": {
     "grade": false,
     "grade_id": "cell-069a11925ba8b1ee",
     "locked": true,
     "schema_version": 1,
     "solution": false
    }
   },
   "source": [
    "# Une classe pour les matrices\n",
    "\n",
    "De nombreux problèmes d'EDPs conduisent à la résolution d'une équation de type $Ax=b$ où $A$ est une matrice carrée inversible. Nous devons donc créer une classe `matrix` permettant le stockage de ces matrices, ainsi que des fonctions pour la résolution des systèmes."
   ]
  },
  {
   "cell_type": "code",
   "execution_count": 2,
   "metadata": {
    "nbgrader": {
     "grade": true,
     "grade_id": "cell-ef7906b8afa2b6bf",
     "locked": false,
     "points": 0,
     "schema_version": 1,
     "solution": true
    }
   },
   "outputs": [
    {
     "name": "stdout",
     "output_type": "stream",
     "text": [
      "Overwriting matrix.hpp\n"
     ]
    }
   ],
   "source": [
    "%%file matrix.hpp\n",
    "\n",
    "/*****************************************************************************************\n",
    "*\n",
    "* class matrix\n",
    "*\n",
    "*****************************************************************************************/\n",
    "class matrix\n",
    "{\n",
    "private:\n",
    "    std::size_t nx, ny;\n",
    "    std::vector<double> array;\n",
    "public:\n",
    "    matrix() = default;                         // constructeur sans paramètre\n",
    "    matrix(const matrix&) = default;            // constructeur par copie\n",
    "    matrix& operator=(const matrix&) = default; // assignation par copie\n",
    "    matrix(matrix&&) = default;                 // constructeur par déplacement\n",
    "    matrix& operator=(matrix&&) = default;      // assignation par déplacement\n",
    "    matrix(const std::size_t nx, const std::size_t ny): nx{nx}, ny{ny}\n",
    "    {\n",
    "        array.resize(nx*ny);\n",
    "    }\n",
    "\n",
    "    // shape of the matrix\n",
    "    auto shape() const\n",
    "    {\n",
    "        return std::make_pair(nx, ny);\n",
    "    }\n",
    "    \n",
    "    // fill the matrix with a constant value\n",
    "    void fill(const double value)\n",
    "    {\n",
    "        std::fill(array.begin(), array.end(), value);\n",
    "    }\n",
    "    \n",
    "    // modify the value: the matrix becomes identity\n",
    "    void identity()\n",
    "    {\n",
    "        std::fill(array.begin(), array.end(), 0);\n",
    "        for (std::size_t i = 0; i < nx; ++i)\n",
    "            array[i + ny*i] = 1;\n",
    "    }\n",
    "    \n",
    "    // return the value ith row and jth column: read data\n",
    "    double operator()(const std::size_t i, const std::size_t j) const\n",
    "    {\n",
    "        return array[j + ny*i];\n",
    "    }\n",
    "    \n",
    "    // return the reference ith row and jth column: write data\n",
    "    double& operator()(const std::size_t i, const std::size_t j)\n",
    "    {\n",
    "        return array[j + ny*i];\n",
    "    }\n",
    "    \n",
    "    // operators overload \n",
    "    matrix& operator+=(const matrix);\n",
    "    matrix& operator-=(const matrix);\n",
    "    matrix& operator*=(const matrix);\n",
    "    matrix& operator^=(const std::size_t);\n",
    "    matrix& operator+=(const double);\n",
    "    matrix& operator-=(const double);\n",
    "    matrix& operator*=(const double);\n",
    "    matrix& operator/=(const double);\n",
    "    \n",
    "    bool is_zero(double pres = 1.e-14)\n",
    "    {\n",
    "        for (auto a: array)\n",
    "            if (std::fabs(a) > pres)\n",
    "                return false;\n",
    "        return true;\n",
    "    }\n",
    "};\n",
    "\n",
    "std::ostream& operator<<(std::ostream &out, const matrix &mat)\n",
    "{\n",
    "    out.setf(std::ios_base::scientific);\n",
    "    out.precision(3);\n",
    "    auto shape = mat.shape();\n",
    "    for(std::size_t i=0; i<shape.first; ++i)\n",
    "    {\n",
    "        out << \"[ \";\n",
    "        for(std::size_t j=0; j<shape.second; ++j)\n",
    "            std::cout << std::setw(10) << mat(i, j) << \" \";\n",
    "        out << \"]\\n\";\n",
    "    }\n",
    "    out.unsetf(std::ios_base::scientific);\n",
    "    return out;\n",
    "}\n",
    "\n",
    "matrix& matrix::operator+=(const matrix B)\n",
    "{\n",
    "    if (shape()!=B.shape())\n",
    "        throw std::length_error(\"Dimension mismatch !!\");\n",
    "    for(std::size_t i=0; i<array.size(); ++i)\n",
    "        array[i] += B.array[i];\n",
    "    return *this;\n",
    "}\n",
    "\n",
    "matrix& matrix::operator-=(const matrix B)\n",
    "{\n",
    "    if (shape()!=B.shape())\n",
    "        throw std::length_error(\"Dimension mismatch !!\");\n",
    "    for(std::size_t i=0; i<array.size(); ++i)\n",
    "        array[i] -= B.array[i];\n",
    "    return *this;\n",
    "}\n",
    "\n",
    "matrix& matrix::operator*=(const matrix B)\n",
    "{\n",
    "    auto shapeA = shape();\n",
    "    auto shapeB = B.shape();\n",
    "    if (shapeA.second != shapeB.first)\n",
    "        throw std::length_error(\"Dimension mismatch !!\");\n",
    "    matrix Acopy=*this;\n",
    "    ny = shapeB.second;\n",
    "    array.resize(nx*ny);\n",
    "    for(std::size_t i=0; i<nx; ++i)\n",
    "        for(std::size_t j=0; j<ny; ++j)\n",
    "        {\n",
    "            double som = 0;\n",
    "            for(std::size_t k=0; k<shapeA.second; ++k)\n",
    "                som += Acopy(i, k)*B(k, j);\n",
    "            (*this)(i, j) = som;\n",
    "        }\n",
    "    return *this;\n",
    "}\n",
    "\n",
    "matrix& matrix::operator^=(const std::size_t p)\n",
    "{\n",
    "    if (nx!=ny)\n",
    "        throw std::length_error(\"Matrix has to be square !!\");\n",
    "    matrix s = *this; // copy of the matrix\n",
    "    // modify the matrix into identity\n",
    "    identity();\n",
    "    std::size_t m = p;\n",
    "    while (m>0)\n",
    "    {\n",
    "        if (m%2 != 0)\n",
    "        *this *= s;\n",
    "        s *= s;\n",
    "        m /= 2;\n",
    "    }\n",
    "    return *this;\n",
    "}\n",
    "\n",
    "matrix& matrix::operator+=(const double a)\n",
    "{\n",
    "    for(std::size_t i=0; i<array.size(); ++i)\n",
    "        array[i] += a;\n",
    "    return *this;\n",
    "}\n",
    "\n",
    "matrix& matrix::operator-=(const double a)\n",
    "{\n",
    "    for(std::size_t i=0; i<array.size(); ++i)\n",
    "        array[i] -= a;\n",
    "    return *this;\n",
    "}\n",
    "\n",
    "matrix& matrix::operator*=(const double a)\n",
    "{\n",
    "    for(std::size_t i=0; i<array.size(); ++i)\n",
    "        array[i] *= a;\n",
    "    return *this;\n",
    "}\n",
    "\n",
    "matrix& matrix::operator/=(const double a)\n",
    "{\n",
    "    if (a == 0.)\n",
    "        throw std::invalid_argument(\"Division by 0.!!\");\n",
    "    for(std::size_t i=0; i<array.size(); ++i)\n",
    "        array[i] /= a;\n",
    "    return *this;\n",
    "}\n",
    "\n",
    "matrix operator+(const matrix& A, const matrix& B)\n",
    "{\n",
    "    matrix C = A;\n",
    "    return C += B;\n",
    "}\n",
    "\n",
    "matrix operator-(const matrix& A, const matrix& B)\n",
    "{\n",
    "    matrix C = A;\n",
    "    return C -= B;\n",
    "}\n",
    "\n",
    "matrix operator^(const matrix& A, const std::size_t p)\n",
    "{\n",
    "    matrix C = A;\n",
    "    return C^=p;\n",
    "}\n",
    "\n",
    "matrix operator*(const matrix& A, const matrix& B)\n",
    "{\n",
    "    matrix C = A;\n",
    "    return C *= B;\n",
    "}\n",
    "\n",
    "matrix identity(const std::size_t nx, const std::size_t ny, const int k = 0)\n",
    "{\n",
    "    // BEGIN SOLUTION\n",
    "    auto A = matrix(nx, ny);\n",
    "    A.fill(0);\n",
    "    std::size_t i = std::max(0, -k), j = std::max(0, k);\n",
    "    while ((i < nx) && (j < ny))\n",
    "        A(i++,j++) = 1;\n",
    "    return A;\n",
    "    // END SOLUTION\n",
    "}\n",
    "\n",
    "std::vector<double> operator*(const matrix& A, const std::vector<double>& v)\n",
    "{\n",
    "    auto shapeA = A.shape();\n",
    "    if (shapeA.second != v.size())\n",
    "        throw std::length_error(\"Dimension mismatch !!\");\n",
    "    std::vector<double> vout(shapeA.first);\n",
    "    for(std::size_t i=0; i<shapeA.first; ++i)\n",
    "    {\n",
    "        double som = 0;\n",
    "        for(std::size_t j=0; j<v.size(); ++j)\n",
    "            som += A(i, j) * v[j];\n",
    "        vout[i] = som;\n",
    "    }\n",
    "    return vout;\n",
    "}\n",
    "\n",
    "std::vector<double> operator*(const std::vector<double>& v, const matrix& A)\n",
    "{\n",
    "    auto shapeA = A.shape();\n",
    "    if (shapeA.first != v.size())\n",
    "        throw std::length_error(\"Dimension mismatch !!\");\n",
    "    std::vector<double> vout(shapeA.second);\n",
    "    for(std::size_t j=0; j<shapeA.second; ++j)\n",
    "    {\n",
    "        double som = 0;\n",
    "        for(std::size_t i=0; i<v.size(); ++i)\n",
    "            som += v[i] * A(i, j);\n",
    "        vout[j] = som;\n",
    "    }\n",
    "    return vout;\n",
    "}\n",
    "\n",
    "double operator*(const std::vector<double>& v, const std::vector<double>& w)\n",
    "{\n",
    "    if (v.size() != w.size())\n",
    "        throw std::length_error(\"Dimension mismatch !!\");\n",
    "    return std::inner_product(v.begin(), v.end(), w.begin(), 0.);\n",
    "}\n",
    "\n",
    "matrix operator+(const double a, const matrix& A)\n",
    "{\n",
    "    matrix B = A;\n",
    "    return B += a;\n",
    "}\n",
    "\n",
    "matrix operator+(const matrix& A, const double a)\n",
    "{\n",
    "    matrix B = A;\n",
    "    return B += a;\n",
    "}\n",
    "\n",
    "matrix operator-(const double a, const matrix& A)\n",
    "{\n",
    "    matrix B = A;\n",
    "    return B -= a;\n",
    "}\n",
    "\n",
    "matrix operator-(const matrix& A, const double a)\n",
    "{\n",
    "    matrix B = A;\n",
    "    return B -= a;\n",
    "}\n",
    "\n",
    "matrix operator*(const double a, const matrix& A)\n",
    "{\n",
    "    matrix B = A;\n",
    "    return B *= a;\n",
    "}\n",
    "\n",
    "matrix operator*(const matrix& A, const double a)\n",
    "{\n",
    "    matrix B = A;\n",
    "    return B *= a;\n",
    "}\n",
    "\n",
    "matrix operator/(const matrix& A, const double a)\n",
    "{\n",
    "    matrix B = A;\n",
    "    return B /= a;\n",
    "}"
   ]
  },
  {
   "cell_type": "code",
   "execution_count": 3,
   "metadata": {
    "nbgrader": {
     "grade": false,
     "grade_id": "cell-5af73c54d4596d78",
     "locked": true,
     "schema_version": 1,
     "solution": false
    }
   },
   "outputs": [],
   "source": [
    "#include \"matrix.hpp\""
   ]
  },
  {
   "cell_type": "markdown",
   "metadata": {
    "nbgrader": {
     "grade": false,
     "grade_id": "cell-afe13c6960897c3f",
     "locked": true,
     "schema_version": 1,
     "solution": false
    }
   },
   "source": [
    "#### Question 1\n",
    "\n",
    "Completez la fonction `identity` afin de pouvoir exécuter la cellule suivante. C'est-à-dire que la fonction doit avoir le même comportement que la fonction `eye` du module `numpy` de `python` : prendre deux entiers $N$ et $M$ en paramètres ainsi qu'un paramètre optionnel $k$ (dont la valeur par défaut devra être $0$) et retourner la matrice de taille $N{\\times}M$ remplie de $0$ sauf sur la diagonale indexées par $k$."
   ]
  },
  {
   "cell_type": "code",
   "execution_count": 4,
   "metadata": {
    "nbgrader": {
     "grade": false,
     "grade_id": "cell-8470e17976067b48",
     "locked": true,
     "schema_version": 1,
     "solution": false
    }
   },
   "outputs": [
    {
     "name": "stdout",
     "output_type": "stream",
     "text": [
      "[  2.000e+00 -1.000e+00  0.000e+00  0.000e+00  0.000e+00 ]\n",
      "[ -1.000e+00  2.000e+00 -1.000e+00  0.000e+00  0.000e+00 ]\n",
      "[  0.000e+00 -1.000e+00  2.000e+00 -1.000e+00  0.000e+00 ]\n",
      "[  0.000e+00  0.000e+00 -1.000e+00  2.000e+00 -1.000e+00 ]\n",
      "[  0.000e+00  0.000e+00  0.000e+00 -1.000e+00  2.000e+00 ]\n"
     ]
    }
   ],
   "source": [
    "{\n",
    "    auto N = 5;\n",
    "    auto A = 2.*identity(N,N) - identity(N,N,1) - identity(N,N,-1);\n",
    "    std::cout << A;\n",
    "}"
   ]
  },
  {
   "cell_type": "markdown",
   "metadata": {
    "nbgrader": {
     "grade": false,
     "grade_id": "cell-aee2719262d4c413",
     "locked": true,
     "schema_version": 1,
     "solution": false
    }
   },
   "source": [
    "# Résolution des systèmes linéaires\n",
    "\n",
    "Nous ajoutons des fonctions permettant de résoudre un système linéaire de la forme $Ax=b$ où la matrice $A$ est une matrice carrée inversible."
   ]
  },
  {
   "cell_type": "code",
   "execution_count": 5,
   "metadata": {
    "nbgrader": {
     "grade": false,
     "grade_id": "cell-dd974d6099a7d221",
     "locked": true,
     "schema_version": 1,
     "solution": false
    }
   },
   "outputs": [
    {
     "name": "stdout",
     "output_type": "stream",
     "text": [
      "Overwriting lu.hpp\n"
     ]
    }
   ],
   "source": [
    "%%file lu.hpp\n",
    "\n",
    "/*****************************************************************************************\n",
    "*\n",
    "* lu decomposition\n",
    "*\n",
    "*****************************************************************************************/\n",
    "\n",
    "matrix lu(const matrix& A)\n",
    "{\n",
    "    auto n = A.shape().first, m = A.shape().second;\n",
    "    if (n != m)\n",
    "        throw std::length_error(\"Error in lu decomposition: dimension mismatch !!\");\n",
    "    matrix LU = matrix(n,n);\n",
    "    for (auto j=0; j<n; ++j)\n",
    "    {\n",
    "        for (auto i=0; i<=j; ++i)\n",
    "        {\n",
    "            auto sum = 0.;\n",
    "            for (auto k=0; k<i; ++k)\n",
    "                sum += LU(i,k) * LU(k,j);\n",
    "            LU(i,j) = A(i,j) - sum;\n",
    "        }\n",
    "        if (LU(j,j) == 0)\n",
    "            throw std::invalid_argument(\"Error in lu decomposition: the decomposition failed !!\");\n",
    "        for (auto i=j+1; i<n; ++i)\n",
    "        {\n",
    "            auto sum = 0.;\n",
    "            for (auto k=0; k<j; ++k)\n",
    "                sum += LU(i,k) * LU(k,j);\n",
    "            LU(i,j) = (A(i,j) - sum) / LU(j,j);\n",
    "        }\n",
    "    }\n",
    "    return LU;\n",
    "}\n",
    "\n",
    "bool lu_verification(const matrix& A, const matrix& LU)\n",
    "{\n",
    "    auto shapeA = A.shape(), shapeLU = LU.shape();\n",
    "    auto n = shapeA.first;\n",
    "    if ((n != shapeA.second) || (n != shapeLU.first) || (n != shapeLU.second))\n",
    "        throw std::length_error(\"Error in lu_verification: dimension mismatch !!\");\n",
    "    auto L = identity(n,n);\n",
    "    for (auto i=0; i<n; ++i)\n",
    "        for (auto j=0; j<i; ++j)\n",
    "            L(i,j) = LU(i,j);\n",
    "    auto U = matrix(n,n);\n",
    "    for (auto i=0; i<n; ++i)\n",
    "        for (auto j=i; j<n; ++j)\n",
    "            U(i,j) = LU(i,j);\n",
    "    auto test = A - L*U;\n",
    "    return test.is_zero();\n",
    "}\n",
    "\n",
    "std::vector<double> solve_lu(const matrix& LU, const std::vector<double>& b)\n",
    "{\n",
    "    auto n = LU.shape().first;\n",
    "    if ((n != LU.shape().second) || (n != b.size()))\n",
    "        throw std::length_error(\"Error in solve_lu: dimension mismatch !!\");\n",
    "    std::vector<double> x(n);\n",
    "    // solve Ly=b\n",
    "    for (auto i=0; i<n; ++i)\n",
    "    {\n",
    "        auto sum = b[i];\n",
    "        for (auto j=0; j<i; ++j)\n",
    "            sum -= LU(i,j) * x[j];\n",
    "        x[i] = sum;\n",
    "    }\n",
    "    // solve Ux=y\n",
    "    for (int i=n-1; i>=0; --i)\n",
    "    {\n",
    "        auto sum = x[i];\n",
    "        for (auto j=i+1; j<n; ++j)\n",
    "            sum -= LU(i,j) * x[j];\n",
    "        x[i] = sum / LU(i,i);\n",
    "    }\n",
    "    return x;\n",
    "}"
   ]
  },
  {
   "cell_type": "code",
   "execution_count": 6,
   "metadata": {
    "nbgrader": {
     "grade": false,
     "grade_id": "cell-9c004dbd0a9cbd7f",
     "locked": true,
     "schema_version": 1,
     "solution": false
    }
   },
   "outputs": [],
   "source": [
    "#include \"lu.hpp\""
   ]
  },
  {
   "cell_type": "markdown",
   "metadata": {
    "nbgrader": {
     "grade": false,
     "grade_id": "cell-9572ec24c6fdd235",
     "locked": true,
     "schema_version": 1,
     "solution": false
    }
   },
   "source": [
    "#### Question 2\n",
    "\n",
    "Vérifiez que la décomposition $LU$ fonctionne correctement en exécutant la cellule suivante. Vous devriez trouver\n",
    "\n",
    "```\n",
    "[  2.000e+00 -1.000e+00  0.000e+00  0.000e+00  0.000e+00 ]\n",
    "[ -5.000e-01  1.500e+00 -1.000e+00  0.000e+00  0.000e+00 ]\n",
    "[  0.000e+00 -6.667e-01  1.333e+00 -1.000e+00  0.000e+00 ]\n",
    "[  0.000e+00  0.000e+00 -7.500e-01  1.250e+00 -1.000e+00 ]\n",
    "[  0.000e+00  0.000e+00  0.000e+00 -8.000e-01  1.200e+00 ]\n",
    "```\n",
    "\n",
    "Vérifiez ensuite avec la cellule suivante : après avoir créé de manière aléatoire une matrice $L$, une matrice $U$, on effectue le produit $L{\\times}U$ puis l'on calcule la décomposition $LU$ du résultat.\n",
    "\n",
    "_Remarque : la décomposition $LU$ proposée ne retourne qu'une seule matrice pour économiser de la place. Les deux matrices $L$ et $U$ sont mises dans la même matrice..._"
   ]
  },
  {
   "cell_type": "code",
   "execution_count": 7,
   "metadata": {
    "nbgrader": {
     "grade": false,
     "grade_id": "cell-ccf6b4c403418590",
     "locked": true,
     "schema_version": 1,
     "solution": false
    }
   },
   "outputs": [
    {
     "name": "stdout",
     "output_type": "stream",
     "text": [
      "[  2.000e+00 -1.000e+00  0.000e+00  0.000e+00  0.000e+00 ]\n",
      "[ -5.000e-01  1.500e+00 -1.000e+00  0.000e+00  0.000e+00 ]\n",
      "[  0.000e+00 -6.667e-01  1.333e+00 -1.000e+00  0.000e+00 ]\n",
      "[  0.000e+00  0.000e+00 -7.500e-01  1.250e+00 -1.000e+00 ]\n",
      "[  0.000e+00  0.000e+00  0.000e+00 -8.000e-01  1.200e+00 ]\n"
     ]
    }
   ],
   "source": [
    "{\n",
    "    auto N = 5;\n",
    "    auto A = 2.*identity(N,N) - identity(N,N,1) - identity(N,N,-1);\n",
    "    auto LU = lu(A);\n",
    "    std::cout << LU;\n",
    "}"
   ]
  },
  {
   "cell_type": "code",
   "execution_count": 8,
   "metadata": {
    "nbgrader": {
     "grade": false,
     "grade_id": "cell-b6f9565d3547b3fb",
     "locked": true,
     "schema_version": 1,
     "solution": false
    }
   },
   "outputs": [],
   "source": [
    "#include <random>"
   ]
  },
  {
   "cell_type": "code",
   "execution_count": 9,
   "metadata": {
    "nbgrader": {
     "grade": false,
     "grade_id": "cell-cbb634d8999851b1",
     "locked": true,
     "schema_version": 1,
     "solution": false
    }
   },
   "outputs": [
    {
     "name": "stdout",
     "output_type": "stream",
     "text": [
      "L = \n",
      "[  1.000e+00  0.000e+00  0.000e+00  0.000e+00  0.000e+00 ]\n",
      "[ -5.569e-01  1.000e+00  0.000e+00  0.000e+00  0.000e+00 ]\n",
      "[ -5.288e-01 -5.057e-01  1.000e+00  0.000e+00  0.000e+00 ]\n",
      "[ -5.457e-01  8.040e-01  9.833e-01  1.000e+00  0.000e+00 ]\n",
      "[ -1.868e-01  6.149e-01 -3.085e-01  7.228e-01  1.000e+00 ]\n",
      "\n",
      "U = \n",
      "[  1.716e-01  7.951e-01  2.792e-01 -7.485e-01  4.542e-01 ]\n",
      "[  0.000e+00 -8.086e-01  5.876e-01 -1.747e-01  2.708e-01 ]\n",
      "[  0.000e+00  0.000e+00 -6.455e-01  6.114e-01  1.753e-02 ]\n",
      "[  0.000e+00  0.000e+00  0.000e+00  6.152e-01 -6.248e-01 ]\n",
      "[  0.000e+00  0.000e+00  0.000e+00  0.000e+00 -2.997e-01 ]\n",
      "\n",
      "LU = \n",
      "[  1.716e-01  7.951e-01  2.792e-01 -7.485e-01  4.542e-01 ]\n",
      "[ -5.569e-01 -8.086e-01  5.876e-01 -1.747e-01  2.708e-01 ]\n",
      "[ -5.288e-01 -5.057e-01 -6.455e-01  6.114e-01  1.753e-02 ]\n",
      "[ -5.457e-01  8.040e-01  9.833e-01  6.152e-01 -6.248e-01 ]\n",
      "[ -1.868e-01  6.149e-01 -3.085e-01  7.228e-01 -2.997e-01 ]\n",
      "\n"
     ]
    }
   ],
   "source": [
    "{\n",
    "    std::random_device rd;\n",
    "    std::mt19937 gen(rd());\n",
    "    std::uniform_real_distribution<> dis(-1, 1);\n",
    "    auto n = 5;\n",
    "    auto L = identity(n,n), U = matrix(n,n);\n",
    "    for (auto i=0; i<n; ++i)\n",
    "    {\n",
    "        L(i,i) = 1.;\n",
    "        U(i,i) = dis(gen);\n",
    "        for (auto j=0; j<i; ++j)\n",
    "        {\n",
    "            L(i,j) = dis(gen);\n",
    "            U(j,i) = dis(gen);\n",
    "        }\n",
    "    }\n",
    "    std::cout << \"L = \\n\" << L << std::endl;\n",
    "    std::cout << \"U = \\n\" << U << std::endl;\n",
    "    auto A = L * U;\n",
    "    std::cout << \"LU = \\n\" << lu(A) << std::endl;\n",
    "}"
   ]
  },
  {
   "cell_type": "markdown",
   "metadata": {
    "nbgrader": {
     "grade": false,
     "grade_id": "cell-7e460a89709047b5",
     "locked": true,
     "schema_version": 1,
     "solution": false
    }
   },
   "source": [
    "#### Question 3\n",
    "\n",
    "Vérifiez à présent que la fonction de résolution des sytèmes linéaires par la méthode de la décomposition $LU$ fonctionne. Dans la cellule suivante, une matrice $A$ et un vecteur $b$ aléatoires sont créés. Complétez la cellule afin de résoudre le système linéaire $Ax=b$, d'afficher le résultat ainsi que $b$ et $Ax$ afin de vérifier que le système est bien résolu."
   ]
  },
  {
   "cell_type": "code",
   "execution_count": 11,
   "metadata": {
    "nbgrader": {
     "grade": true,
     "grade_id": "cell-fd524370993e347f",
     "locked": false,
     "points": 0,
     "schema_version": 1,
     "solution": true
    }
   },
   "outputs": [
    {
     "name": "stdout",
     "output_type": "stream",
     "text": [
      "x  = [ 1.44 -0.0966 1.74 -0.483 0.0429 -0.561 -0.827 0.209 ]\n",
      "Ax = [ 0.95 0.613 0.0267 0.782 0.757 0.99 0.000254 0.845 ]\n",
      "b  = [ 0.95 0.613 0.0267 0.782 0.757 0.99 0.000254 0.845 ]\n"
     ]
    }
   ],
   "source": [
    "{\n",
    "    std::random_device rd;\n",
    "    std::mt19937 gen(rd());\n",
    "    std::uniform_real_distribution<> dis(0, 1);\n",
    "    auto n = 8;\n",
    "    auto A = matrix(n,n);\n",
    "    std::vector<double> b(n);\n",
    "    for (auto i=0; i<n; ++i)\n",
    "    {\n",
    "        b[i] = dis(gen);\n",
    "        for (auto j=0; j<n; ++j)\n",
    "            A(i,j) = dis(gen);\n",
    "    }\n",
    "    // BEGIN SOLUTION\n",
    "    auto x = solve_lu(lu(A), b);\n",
    "    auto y = A*x;\n",
    "    std::cout << \"x  = [ \";\n",
    "    std::copy(x.begin(), x.end(), std::ostream_iterator<double>(std::cout, \" \"));\n",
    "    std::cout << \"]\"<< std::endl;\n",
    "    std::cout << \"Ax = [ \";\n",
    "    std::copy(y.begin(), y.end(), std::ostream_iterator<double>(std::cout, \" \"));\n",
    "    std::cout << \"]\"<< std::endl;\n",
    "    std::cout << \"b  = [ \";\n",
    "    std::copy(b.begin(), b.end(), std::ostream_iterator<double>(std::cout, \" \"));\n",
    "    std::cout << \"]\"<< std::endl;\n",
    "    // END SOLUTION\n",
    "}"
   ]
  },
  {
   "cell_type": "code",
   "execution_count": null,
   "metadata": {},
   "outputs": [],
   "source": []
  }
 ],
 "metadata": {
  "celltoolbar": "Create Assignment",
  "kernelspec": {
   "display_name": "xeus C++14",
   "language": "",
   "name": "xeus-cling-cpp14"
  },
  "language_info": {
   "codemirror_mode": "text/x-c++src",
   "file_extension": ".cpp",
   "mimetype": "text/x-c++src",
   "name": "c++",
   "version": ""
  }
 },
 "nbformat": 4,
 "nbformat_minor": 2
}
