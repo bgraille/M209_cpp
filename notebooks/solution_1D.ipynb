{
 "cells": [
  {
   "cell_type": "markdown",
   "metadata": {
    "nbgrader": {
     "grade": false,
     "grade_id": "cell-afffc263ff560660",
     "locked": true,
     "schema_version": 1,
     "solution": false
    }
   },
   "source": [
    "# Solution 1D\n",
    "\n",
    "Nous proposons dans ce notebook de créer une classe adaptée aux solutions d'EDP en dimension 1 d'espace. Cette classe s'appuie sur la classe `mesh1D` afin de prévoir le stockage de la solution approchée en chaque point du maillage."
   ]
  },
  {
   "cell_type": "markdown",
   "metadata": {
    "nbgrader": {
     "grade": false,
     "grade_id": "cell-b7ac896d690582d6",
     "locked": true,
     "schema_version": 1,
     "solution": false
    }
   },
   "source": [
    "### Question 1\n",
    "\n",
    "Complétez la classe `solution1D` : \n",
    "* la fonction `init` qui initialise la solution sur le maillage à l'aide de la fonction entrée en paramètre, \n",
    "* les fonctions `min` et `max` qui retourne le minimum et le maximum de la solution,\n",
    "* la fonction d'affichage qui donne des informations sur la solution."
   ]
  },
  {
   "cell_type": "code",
   "execution_count": 1,
   "metadata": {
    "nbgrader": {
     "grade": true,
     "grade_id": "cell-7a53e95557b6aeb1",
     "locked": false,
     "points": 0,
     "schema_version": 1,
     "solution": true
    }
   },
   "outputs": [
    {
     "name": "stdout",
     "output_type": "stream",
     "text": [
      "Overwriting solution1D.hpp\n"
     ]
    }
   ],
   "source": [
    "%%file solution1D.hpp\n",
    "\n",
    "using parameters = std::map<std::string, double>;\n",
    "\n",
    "/*****************************************************************************************\n",
    "*\n",
    "* class solution1D to define the numerical solution in 1D\n",
    "*\n",
    "*****************************************************************************************/\n",
    "class solution1D\n",
    "{    \n",
    "public:\n",
    "    std::vector<double> u; // the numerical solution\n",
    "    double t;              // the time t \n",
    "    mesh1D m;              // the mesh on which the solution is computed\n",
    "    parameters param;      // the parameters\n",
    "    \n",
    "    solution1D(parameters);  // the constructor\n",
    "    void init(double (*ptr_f)(double)); // initialization of the solution\n",
    "    \n",
    "    double max(); // return the maximum of the solution\n",
    "    double min(); // return the minimum of the solution\n",
    "};\n",
    "\n",
    "solution1D::solution1D(parameters p)\n",
    "{\n",
    "    param = p;\n",
    "    // mesh choice (node-centered or cell-centered)\n",
    "    bool toto = false;\n",
    "    auto it_nc = param.find(\"node-centered\");\n",
    "    if (it_nc != param.end())\n",
    "    {\n",
    "        if (it_nc->second == 1.)\n",
    "            m = mesh1D_nc(param);\n",
    "        else\n",
    "            m = mesh1D_cc(param);\n",
    "        toto = true;\n",
    "    }\n",
    "    auto it_cc = param.find(\"cell-centered\");\n",
    "    if (it_cc != param.end())\n",
    "    {\n",
    "        if (it_cc->second == 1.)\n",
    "            m = mesh1D_cc(param);\n",
    "        else\n",
    "            m = mesh1D_nc(param);\n",
    "        toto = true;\n",
    "    }\n",
    "    if (!toto)\n",
    "        throw std::invalid_argument(\"Missing argument: cell-centered or node-centered mesh!\");\n",
    "    u.resize(m.Nx);\n",
    "}\n",
    "\n",
    "void solution1D::init(double (*ptr_f)(double))\n",
    "{\n",
    "    // BEGIN SOLUTION\n",
    "    t = 0.;\n",
    "    std::transform(m.x.begin(), m.x.end(), u.begin(), ptr_f);\n",
    "    // END SOLUTION\n",
    "}\n",
    "\n",
    "double solution1D::min()\n",
    "{\n",
    "    // BEGIN SOLUTION\n",
    "    return *std::min_element(u.begin(), u.end());\n",
    "    // END SOLUTION\n",
    "}\n",
    "\n",
    "double solution1D::max()\n",
    "{\n",
    "    // BEGIN SOLUTION\n",
    "    return *std::max_element(u.begin(), u.end());\n",
    "    // END SOLUTION\n",
    "}\n",
    "\n",
    "std::ostream& operator<<(std::ostream& out, solution1D& S)\n",
    "{\n",
    "    out << std::string(80, '-')    << std::endl;\n",
    "    out << \"solution informations\" << std::endl;\n",
    "    out << std::string(80, '-')    << std::endl;\n",
    "    // BEGIN SOLUTION\n",
    "    out << \"    dimension:         \" << 1      << std::endl;\n",
    "    out << \"    xmin:              \" << S.m.xmin << std::endl;\n",
    "    out << \"    xmax:              \" << S.m.xmax << std::endl;\n",
    "    out << \"    number of points:  \" << S.m.Nx   << std::endl;\n",
    "    out << \"    spatial step:      \" << S.m.dx   << std::endl;\n",
    "    out << \"[\" << std::endl;\n",
    "    if (S.m.Nx <= 6)\n",
    "        for (auto k = 0; k < S.m.Nx; ++k)\n",
    "            out << \"  \" << S.m.x[k] << \" \\t \" << S.u[k] << std::endl;\n",
    "    else\n",
    "    {\n",
    "        for (auto k = 0; k < 3; ++k)\n",
    "            out << \"  \" << S.m.x[k] << \" \\t \" << S.u[k] << std::endl;\n",
    "        out << \"   ... \" << std::endl;\n",
    "        for (auto k = S.m.Nx - 3; k < S.m.Nx; ++k)\n",
    "            out << \"  \" << S.m.x[k] << \" \\t \" << S.u[k] << std::endl;\n",
    "\n",
    "    }\n",
    "    out << \"]\" << std::endl;    \n",
    "    // END SOLUTION\n",
    "    out << std::string(80, '-') << std::endl;\n",
    "    return out;\n",
    "}"
   ]
  },
  {
   "cell_type": "markdown",
   "metadata": {
    "nbgrader": {
     "grade": false,
     "grade_id": "cell-a103488e398d4884",
     "locked": true,
     "schema_version": 1,
     "solution": false
    }
   },
   "source": [
    "### Question 2\n",
    "\n",
    "Exécutez les cellules suivantes afin d'initialiser la solution à l'aide de la fonction `u0`."
   ]
  },
  {
   "cell_type": "code",
   "execution_count": 2,
   "metadata": {
    "nbgrader": {
     "grade": false,
     "grade_id": "cell-554a1ab395087fa6",
     "locked": true,
     "schema_version": 1,
     "solution": false
    }
   },
   "outputs": [],
   "source": [
    "#include <iostream>\n",
    "#include <vector>\n",
    "\n",
    "#include \"xplot/xfigure.hpp\"\n",
    "#include \"xplot/xmarks.hpp\"\n",
    "#include \"xplot/xaxes.hpp\"\n",
    "\n",
    "using parameters = std::map<std::string, double>;\n",
    "\n",
    "#include \"mesh1D.hpp\"\n",
    "#include \"solution1D.hpp\""
   ]
  },
  {
   "cell_type": "code",
   "execution_count": 3,
   "metadata": {},
   "outputs": [],
   "source": [
    "// parameters declaration\n",
    "parameters p = {\n",
    "    {\"xmin\", -1},\n",
    "    {\"xmax\", 1.},\n",
    "    {\"Nx\", 1024},\n",
    "    {\"cell-centered\", 1}\n",
    "};"
   ]
  },
  {
   "cell_type": "code",
   "execution_count": 4,
   "metadata": {},
   "outputs": [],
   "source": [
    "double u0(double x)\n",
    "{\n",
    "    double xmin = p[\"xmin\"], xmax = p[\"xmax\"];\n",
    "    auto l = 0.75 * xmin + 0.25 * xmax;\n",
    "    auto r = 0.5 * xmin + 0.5 * xmax;\n",
    "    if ((x>l) && (x<r))\n",
    "        return 1.;\n",
    "    else\n",
    "        return 0.;\n",
    "}"
   ]
  },
  {
   "cell_type": "code",
   "execution_count": 5,
   "metadata": {
    "nbgrader": {
     "grade": false,
     "grade_id": "cell-83ad64b403930369",
     "locked": true,
     "schema_version": 1,
     "solution": false
    }
   },
   "outputs": [],
   "source": [
    "solution1D S(p);  // numerical solution\n",
    "S.init(u0);"
   ]
  },
  {
   "cell_type": "code",
   "execution_count": 6,
   "metadata": {},
   "outputs": [
    {
     "data": {
      "application/vnd.jupyter.widget-view+json": {
       "model_id": "709a66f2371e49479e09b1aede0fa68f",
       "version_major": 2,
       "version_minor": 0
      },
      "text/plain": [
       "A Jupyter widget"
      ]
     },
     "metadata": {},
     "output_type": "display_data"
    }
   ],
   "source": [
    "xpl::linear_scale xs, ys;\n",
    "xs.min = p[\"xmin\"], xs.max = p[\"xmax\"];\n",
    "ys.min = S.min(), ys.max = S.max();\n",
    "xpl::lines line(xs, ys);\n",
    "line.x = S.m.x;\n",
    "line.y = S.u;\n",
    "line.colors = std::vector<std::string>({\"navy\"});\n",
    "xpl::axis hx(xs), hy(ys);\n",
    "hy.orientation = \"vertical\";\n",
    "xpl::figure fig;    \n",
    "fig.add_mark(line);\n",
    "fig.add_axis(hx);\n",
    "fig.add_axis(hy);\n",
    "fig.title = \"discontinuous initial data\";\n",
    "fig.display();"
   ]
  },
  {
   "cell_type": "markdown",
   "metadata": {
    "nbgrader": {
     "grade": false,
     "grade_id": "cell-c18e4015383b70f0",
     "locked": true,
     "schema_version": 1,
     "solution": false
    }
   },
   "source": [
    "### Question 3\n",
    "\n",
    "Complétez la fonction `u1` afin d'avoir une fonction globalement continue et polynomiale de degré 2 par morceaux. Vérifiez en exécutant la cellule suivante."
   ]
  },
  {
   "cell_type": "code",
   "execution_count": 7,
   "metadata": {
    "nbgrader": {
     "grade": true,
     "grade_id": "cell-e648535d2e1b76d3",
     "locked": false,
     "points": 0,
     "schema_version": 1,
     "solution": true
    }
   },
   "outputs": [],
   "source": [
    "double u1(double x)\n",
    "{\n",
    "    // BEGIN SOLUTION\n",
    "    double xmin = p[\"xmin\"], xmax = p[\"xmax\"];\n",
    "    auto l = 0.75 * xmin + 0.25 * xmax;\n",
    "    auto r = 0.5 * xmin + 0.5 * xmax;\n",
    "    if ((x>l) && (x<r))\n",
    "        return (x-l)*(r-x)/std::pow(.5*(r-l), 2);\n",
    "    else\n",
    "        return 0.;\n",
    "    // END SOLUTION\n",
    "}"
   ]
  },
  {
   "cell_type": "code",
   "execution_count": 8,
   "metadata": {
    "nbgrader": {
     "grade": false,
     "grade_id": "cell-5fa2462fadd1c50b",
     "locked": true,
     "schema_version": 1,
     "solution": false
    }
   },
   "outputs": [],
   "source": [
    "S.init(u1);\n",
    "line.y = S.u;\n",
    "fig.title = \"continuous initial data\";"
   ]
  },
  {
   "cell_type": "markdown",
   "metadata": {
    "nbgrader": {
     "grade": false,
     "grade_id": "cell-faea8e97a15242b9",
     "locked": true,
     "schema_version": 1,
     "solution": false
    }
   },
   "source": [
    "### Question 4\n",
    "\n",
    "Complétez la fonction `u2` afin d'avoir une fonction globalement dérivable et polynomiale de degré 4 par morceaux. Vérifiez en exécutant la cellule suivante."
   ]
  },
  {
   "cell_type": "code",
   "execution_count": 9,
   "metadata": {
    "nbgrader": {
     "grade": true,
     "grade_id": "cell-fd279b2d255530fa",
     "locked": false,
     "points": 0,
     "schema_version": 1,
     "solution": true
    }
   },
   "outputs": [],
   "source": [
    "double u2(double x)\n",
    "{\n",
    "    // BEGIN SOLUTION\n",
    "    double xmin = p[\"xmin\"], xmax = p[\"xmax\"];\n",
    "    auto l = 0.75 * xmin + 0.25 * xmax;\n",
    "    auto r = 0.5 * xmin + 0.5 * xmax;\n",
    "    if ((x>l) && (x<r))\n",
    "        return std::pow((x-l)*(r-x),2)/std::pow(.5*(r-l), 4);\n",
    "    else\n",
    "        return 0.;\n",
    "    // END SOLUTION\n",
    "}"
   ]
  },
  {
   "cell_type": "code",
   "execution_count": 10,
   "metadata": {
    "nbgrader": {
     "grade": false,
     "grade_id": "cell-267fea727ee510ce",
     "locked": true,
     "schema_version": 1,
     "solution": false
    }
   },
   "outputs": [],
   "source": [
    "S.init(u2);\n",
    "line.y = S.u;\n",
    "fig.title = \"differentiable initial data\";"
   ]
  },
  {
   "cell_type": "code",
   "execution_count": null,
   "metadata": {},
   "outputs": [],
   "source": []
  }
 ],
 "metadata": {
  "celltoolbar": "Create Assignment",
  "kernelspec": {
   "display_name": "xeus C++14",
   "language": "",
   "name": "xeus-cling-cpp14"
  },
  "language_info": {
   "codemirror_mode": "text/x-c++src",
   "file_extension": ".cpp",
   "mimetype": "text/x-c++src",
   "name": "c++",
   "version": ""
  }
 },
 "nbformat": 4,
 "nbformat_minor": 2
}
